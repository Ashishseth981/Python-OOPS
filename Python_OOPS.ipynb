{
  "nbformat": 4,
  "nbformat_minor": 0,
  "metadata": {
    "colab": {
      "provenance": []
    },
    "kernelspec": {
      "name": "python3",
      "display_name": "Python 3"
    },
    "language_info": {
      "name": "python"
    }
  },
  "cells": [
    {
      "cell_type": "markdown",
      "source": [
        "1.What is Object-Oriented Programming (OOP)?\n",
        "\n",
        "-> Object-Oriented Programming (OOP) is a programming paradigm (way of writing programs) that organizes code around objects rather than just functions and logic.\n",
        "Objects are instances of classes, which bundle together data (attributes/variables) and behavior (methods/functions)."
      ],
      "metadata": {
        "id": "qtOb1dn1g91D"
      }
    },
    {
      "cell_type": "markdown",
      "source": [
        "2.What is a class in OOP?\n",
        "\n",
        "-> A class in Object-Oriented Programming (OOP) is a blueprint or template used to create objects.It defines attributes (variables / data) and methods (functions / behavior) that the objects created from the class will have."
      ],
      "metadata": {
        "id": "IdlwF9vjh0N0"
      }
    },
    {
      "cell_type": "markdown",
      "source": [
        "3.What is an object in OOP?\n",
        "\n",
        "-> An object is an instance of a class.\n",
        "\n",
        "If a class is the blueprint, then an object is the real-world entity created from that blueprint.\n",
        "\n",
        "Objects have:\n",
        "\n",
        "Attributes (data/state) → variables that hold information.\n",
        "\n",
        "Methods (behavior) → functions that define what the object can do."
      ],
      "metadata": {
        "id": "N99rBt3biEMV"
      }
    },
    {
      "cell_type": "markdown",
      "source": [
        "4.What is the difference between abstraction and encapsulation?\n",
        "\n",
        "-> . Abstraction - Hiding the implementation details and showing only the essential features to the user.\n",
        "\n",
        "-> Encapsulation - Wrapping data (attributes) and methods (behavior) into a single unit (class) and restricting direct access to some data."
      ],
      "metadata": {
        "id": "7-WtNFAUiRYM"
      }
    },
    {
      "cell_type": "markdown",
      "source": [
        "5.What are dunder methods in Python?\n",
        "\n",
        "-> Dunder = Double UNDERscores.\n",
        "\n",
        "These are special methods in Python that start and end with __ (two underscores).\n",
        "They are also called magic methods or special methods.\n",
        "Python uses them to perform built-in operations behind the scenes."
      ],
      "metadata": {
        "id": "KN3XjTB0isFV"
      }
    },
    {
      "cell_type": "markdown",
      "source": [
        "6.Explain the concept of inheritance in OOP.\n",
        "\n",
        "-> Inheritance is a core concept in Object-Oriented Programming where one class (child/derived class) can inherit properties and behaviors (attributes & methods) from another class (parent/base class).\n",
        "\n",
        "It helps with code reusability and extensibility.\n",
        "\n",
        "Instead of writing the same code again, we can reuse and extend existing classes."
      ],
      "metadata": {
        "id": "ZilumTDYi_KV"
      }
    },
    {
      "cell_type": "markdown",
      "source": [
        "7.What is polymorphism in OOP?\n",
        "\n",
        "-> In OOP, the same function/method name or operator can behave differently depending on the object or data type it is used with."
      ],
      "metadata": {
        "id": "XUfnSaqHjcbV"
      }
    },
    {
      "cell_type": "markdown",
      "source": [
        "8.How is encapsulation achieved in Python?\n",
        "\n",
        "-> Encapsulation means wrapping data (attributes) and methods (functions) into a single unit (class) and restricting direct access to some data.It helps in data hiding and controlled access.\n",
        "\n",
        "In Python, encapsulation is achieved using access modifiers"
      ],
      "metadata": {
        "id": "SHz3YiMdo0RE"
      }
    },
    {
      "cell_type": "markdown",
      "source": [
        "9.What is a constructor in Python?\n",
        "\n",
        "-> A constructor is a special method in a class that is automatically called when an object is created.\n",
        "\n",
        "It is used to initialize the attributes (variables) of the object.\n",
        "\n",
        "In Python, the constructor method is always named __init__()."
      ],
      "metadata": {
        "id": "u6lSwUB0pBUc"
      }
    },
    {
      "cell_type": "markdown",
      "source": [
        "10.What are class and static methods in Python?\n",
        "\n",
        "-> Class and Static Methods in Python\n",
        "\n",
        "Instance Method → Works with object data. First argument is self.\n",
        "\n",
        "Class Method → Works with class data. Uses @classmethod and first argument is cls.\n",
        "\n",
        "Static Method → Independent utility inside a class. Uses @staticmethod, no self or cls."
      ],
      "metadata": {
        "id": "i552wiESpLuU"
      }
    },
    {
      "cell_type": "markdown",
      "source": [
        "11. What is method overloading in Python ?\n",
        "\n",
        "-> Method Overloading in Python - Having multiple methods with the same name but different parameters."
      ],
      "metadata": {
        "id": "skszkHKTpkat"
      }
    },
    {
      "cell_type": "markdown",
      "source": [
        "12. What is method overriding in OOP?\n",
        "\n",
        "-> Method Overriding in OOP - When a child (subclass) provides its own implementation of a method that already exists in the parent (superclass).\n",
        "\n",
        "The method name and parameters must be the same. Used to change or extend the behavior of the parent class method."
      ],
      "metadata": {
        "id": "JI-hjIX-pynO"
      }
    },
    {
      "cell_type": "markdown",
      "source": [
        "13. What is a property decorator in Python?\n",
        "\n",
        "-> The property decorator is used to turn a method into an attribute. It lets you access getters and setters like normal variables, instead of calling methods. Helps with encapsulation and clean syntax."
      ],
      "metadata": {
        "id": "JfVhFL7eqBvu"
      }
    },
    {
      "cell_type": "markdown",
      "source": [
        "14.Why is polymorphism important in OOP?\n",
        "\n",
        "-> It allows the same interface (method or operator) to work with different types of objects.\n",
        "Makes code more flexible, reusable, and maintainable.\n",
        "Helps in writing generic code that can handle many forms without modification."
      ],
      "metadata": {
        "id": "zxlW8BZUqVDu"
      }
    },
    {
      "cell_type": "markdown",
      "source": [
        "15. What is an abstract class in Python?\n",
        "\n",
        "-> A class that cannot be instantiated directly, it is meant to be a blueprint for other classes. Contains one or more abstract methods (methods declared but not implemented).\n",
        "\n",
        "Defined using the abc module (ABC and @abstractmethod).  Child classes must implement the abstract methods."
      ],
      "metadata": {
        "id": "ZRTOR8ccqnhG"
      }
    },
    {
      "cell_type": "markdown",
      "source": [
        "16. What are the advantages of OOP?\n",
        "\n",
        "-> Here are few advantages of OOP\n",
        "\n",
        "Modularity – Code is organized into classes/objects.\n",
        "\n",
        "Reusability – Inheritance allows reuse of existing code.\n",
        "\n",
        "Abstraction – Hides implementation, shows only essentials.\n",
        "\n",
        "Encapsulation – Protects data through controlled access.\n",
        "\n",
        "Polymorphism – One interface, many implementations."
      ],
      "metadata": {
        "id": "8_j8UZGvq_En"
      }
    },
    {
      "cell_type": "markdown",
      "source": [
        "17. What is the difference between a class variable and an instance variable?\n",
        "\n",
        "-> Class variable: A variable that belongs to the class itself. It is shared by all objects of that class. Changing it affects every object.\n",
        "\n",
        "Instance variable: A variable that belongs to a specific object (instance). Each object has its own copy, so changing it only affects that object."
      ],
      "metadata": {
        "id": "k7MBF01IrQLY"
      }
    },
    {
      "cell_type": "markdown",
      "source": [
        "18.What is multiple inheritance in Python?\n",
        "\n",
        "-> Multiple inheritance means a class can inherit from more than one parent class.The child class gets the properties and methods of all the parent classes."
      ],
      "metadata": {
        "id": "6C7QdZYNrf9Q"
      }
    },
    {
      "cell_type": "markdown",
      "source": [
        "19.Explain the purpose of ‘’__str__’ and ‘__repr__’ ‘ methods in Python.\n",
        "\n",
        "-> __str__\n",
        "\n",
        "Used to return a readable / user-friendly string representation of an object.\n",
        "\n",
        "Called when you use print(obj) or str(obj).\n",
        "\n",
        "Purpose: Make the object easy to understand for end users.\n",
        "\n",
        "->  __repr__\n",
        "\n",
        "Used to return an official string representation of an object.\n",
        "\n",
        "Called when you use repr(obj) or just type the object name in the interpreter.\n",
        "\n",
        "Purpose: Help developers/debuggers see a clear representation, ideally one that could recreate the object."
      ],
      "metadata": {
        "id": "fL_jDy3irvGg"
      }
    },
    {
      "cell_type": "markdown",
      "source": [
        "20.What is the significance of the ‘super()’ function in Python?\n",
        "\n",
        "-> The super() function is used to call methods from a parent class inside a child class.Commonly used in constructors (__init__) to initialize the parent’s attributes.Helps in code reuse and avoids having to write the parent class name directly."
      ],
      "metadata": {
        "id": "sPNDOwEEsBlJ"
      }
    },
    {
      "cell_type": "markdown",
      "source": [
        "21.What is the significance of the __del__ method in Python?\n",
        "\n",
        "-> __del__ is the destructor method.It is called automatically when an object is about to be destroyed (garbage collected).\n",
        "\n",
        "Purpose: To perform cleanup tasks like closing files or releasing resources."
      ],
      "metadata": {
        "id": "5ZHtNf9ZsPNq"
      }
    },
    {
      "cell_type": "markdown",
      "source": [
        "22.What is the difference between @staticmethod and @classmethod in Python?\n",
        "\n",
        "-> @staticmethod\n",
        "\n",
        "Does not take self or cls as the first argument.\n",
        "\n",
        "Works like a regular function but lives inside a class for organization.\n",
        "\n",
        "Cannot access or modify class or instance data directly.\n",
        "\n",
        "-> @classmethod\n",
        "\n",
        "Takes cls as the first argument.\n",
        "\n",
        "Can access and modify class-level data (shared across all objects).\n",
        "\n",
        "Useful for factory methods and operations affecting the whole class."
      ],
      "metadata": {
        "id": "xUti3k6_siqq"
      }
    },
    {
      "cell_type": "markdown",
      "source": [
        "23.How does polymorphism work in Python with inheritance?\n",
        "\n",
        "-> In inheritance, a child class can override a method from the parent class.\n",
        "When you call that method on a child object, the child’s version runs instead of the parent’s.\n",
        "This allows the same method name to have different behaviors depending on the object’s class."
      ],
      "metadata": {
        "id": "biqUnSmfs5oD"
      }
    },
    {
      "cell_type": "markdown",
      "source": [
        "24.What is method chaining in Python OOP?\n",
        "\n",
        "-> Method chaining means calling multiple methods on the same object in a single line.\n",
        "Each method returns the object itself (self), allowing the next method to be called immediately.\n",
        "It makes the code more concise and readable."
      ],
      "metadata": {
        "id": "flQxjUV3tFyb"
      }
    },
    {
      "cell_type": "markdown",
      "source": [
        "25.What is the purpose of the __call__ method in Python?\n",
        "\n",
        "-> The __call__ method lets an object be called like a function.\n",
        "If a class defines __call__, then its objects can use obj() syntax.\n",
        "Purpose: To give objects function-like behavior while still keeping state inside a class."
      ],
      "metadata": {
        "id": "y7eMnV3itOqk"
      }
    },
    {
      "cell_type": "markdown",
      "source": [
        "#Practical Questions"
      ],
      "metadata": {
        "id": "zAZlBtidtcS0"
      }
    },
    {
      "cell_type": "code",
      "source": [
        "#1. Create a parent class Animal with a method speak() that prints a generic message. Create a child class Dog that overrides the speak() method to print \"Bark!\".\n",
        "\n",
        "class Animal:\n",
        "    def speak(self):\n",
        "        print(\"This animal makes a sound.\")\n",
        "\n",
        "class Dog(Animal):\n",
        "    def speak(self):\n",
        "        print(\"Bark!\")\n",
        "\n",
        "  #Example\n",
        "a = Animal()\n",
        "a.speak()\n",
        "\n",
        "d = Dog()\n",
        "d.speak()\n"
      ],
      "metadata": {
        "colab": {
          "base_uri": "https://localhost:8080/"
        },
        "id": "8kECMdkqtjy8",
        "outputId": "ad424d98-eb09-4399-fd77-4ab4c0f092fe"
      },
      "execution_count": 4,
      "outputs": [
        {
          "output_type": "stream",
          "name": "stdout",
          "text": [
            "This animal makes a sound.\n",
            "Bark!\n"
          ]
        }
      ]
    },
    {
      "cell_type": "code",
      "source": [
        "#2. Write a program to create an abstract class Shape with a method area(). Derive classes Circle and Rectangle from it and implement the area() method in both.\n",
        "\n",
        "from abc import ABC, abstractmethod\n",
        "import math\n",
        "\n",
        "class Shape(ABC):\n",
        "    @abstractmethod\n",
        "    def area(self):\n",
        "        pass\n",
        "\n",
        "class Circle(Shape):\n",
        "    def __init__(self, radius):\n",
        "        self.radius = radius\n",
        "\n",
        "    def area(self):\n",
        "        return math.pi * (self.radius ** 2)\n",
        "\n",
        "class Rectangle(Shape):\n",
        "    def __init__(self, length, width):\n",
        "        self.length = length\n",
        "        self.width = width\n",
        "\n",
        "    def area(self):\n",
        "        return self.length * self.width\n",
        "\n",
        "# Example\n",
        "c = Circle(5)\n",
        "print(\"Circle area:\", c.area())\n",
        "\n",
        "r = Rectangle(4, 6)\n",
        "print(\"Rectangle area:\", r.area())\n"
      ],
      "metadata": {
        "colab": {
          "base_uri": "https://localhost:8080/"
        },
        "id": "Y-8D_e5lt9Mu",
        "outputId": "c0d49621-0f9b-4b0f-fa51-cb18495e5391"
      },
      "execution_count": 5,
      "outputs": [
        {
          "output_type": "stream",
          "name": "stdout",
          "text": [
            "Circle area: 78.53981633974483\n",
            "Rectangle area: 24\n"
          ]
        }
      ]
    },
    {
      "cell_type": "code",
      "source": [
        "#3. Implement a multi-level inheritance scenario where a class Vehicle has an attribute type. Derive a class Car and further derive a class ElectricCar that adds a battery attribute.\n",
        "\n",
        "class Vehicle:\n",
        "    def __init__(self, vehicle_type):\n",
        "        self.type = vehicle_type\n",
        "\n",
        "class Car(Vehicle):\n",
        "    def __init__(self, vehicle_type, brand):\n",
        "        super().__init__(vehicle_type)\n",
        "        self.brand = brand\n",
        "\n",
        "class ElectricCar(Car):\n",
        "    def __init__(self, vehicle_type, brand, battery_capacity):\n",
        "        super().__init__(vehicle_type, brand)\n",
        "        self.battery = battery_capacity\n",
        "\n",
        "# Example\n",
        "ev = ElectricCar(\"Four Wheeler\", \"Tesla\", \"100 kWh\")\n",
        "print(\"Type:\", ev.type)\n",
        "print(\"Brand:\", ev.brand)\n",
        "print(\"Battery:\", ev.battery)"
      ],
      "metadata": {
        "colab": {
          "base_uri": "https://localhost:8080/"
        },
        "id": "y1SguJkBuewW",
        "outputId": "84998cba-8f95-4290-8040-6ea7b49eb20b"
      },
      "execution_count": 6,
      "outputs": [
        {
          "output_type": "stream",
          "name": "stdout",
          "text": [
            "Type: Four Wheeler\n",
            "Brand: Tesla\n",
            "Battery: 100 kWh\n"
          ]
        }
      ]
    },
    {
      "cell_type": "code",
      "source": [
        "#4.Demonstrate polymorphism by creating a base class Bird with a method fly(). Create two derived classes Sparrow and Penguin that override the fly() method.\n",
        "\n",
        "class Bird:\n",
        "    def fly(self):\n",
        "        print(\"This bird can fly in its own way.\")\n",
        "\n",
        "class Sparrow(Bird):\n",
        "    def fly(self):\n",
        "        print(\"Sparrow flies high in the sky.\")\n",
        "\n",
        "class Penguin(Bird):\n",
        "    def fly(self):\n",
        "        print(\"Penguins cannot fly, they swim instead.\")\n",
        "\n",
        "# Example\n",
        "birds = [Sparrow(), Penguin()]\n",
        "\n",
        "for bird in birds:\n",
        "    bird.fly()"
      ],
      "metadata": {
        "colab": {
          "base_uri": "https://localhost:8080/"
        },
        "id": "NqHvWyVOuxZ_",
        "outputId": "be31e6f9-fce8-4c6b-cd20-50d6392b77da"
      },
      "execution_count": 7,
      "outputs": [
        {
          "output_type": "stream",
          "name": "stdout",
          "text": [
            "Sparrow flies high in the sky.\n",
            "Penguins cannot fly, they swim instead.\n"
          ]
        }
      ]
    },
    {
      "cell_type": "code",
      "source": [
        "#5. Write a program to demonstrate encapsulation by creating a class BankAccount with private attributes balance and methods to deposit, withdraw, and check balance.\n",
        "\n",
        "class BankAccount:\n",
        "    def __init__(self, initial_balance=0):\n",
        "        self.__balance = initial_balance\n",
        "\n",
        "    def deposit(self, amount):\n",
        "        if amount > 0:\n",
        "            self.__balance += amount\n",
        "            print(f\"Deposited: {amount}\")\n",
        "        else:\n",
        "            print(\"Deposit amount must be positive.\")\n",
        "\n",
        "    def withdraw(self, amount):\n",
        "        if 0 < amount <= self.__balance:\n",
        "            self.__balance -= amount\n",
        "            print(f\"Withdrew: {amount}\")\n",
        "        else:\n",
        "            print(\"Insufficient balance or invalid amount.\")\n",
        "\n",
        "    def check_balance(self):\n",
        "        print(f\"Current Balance: {self.__balance}\")\n",
        "\n",
        "# Example\n",
        "account = BankAccount(1000)\n",
        "account.deposit(500)\n",
        "account.withdraw(200)\n",
        "account.check_balance()"
      ],
      "metadata": {
        "colab": {
          "base_uri": "https://localhost:8080/"
        },
        "id": "kba7S7HZ0wBt",
        "outputId": "ec13448e-11fd-468e-dfbc-cc1a89b124dd"
      },
      "execution_count": 8,
      "outputs": [
        {
          "output_type": "stream",
          "name": "stdout",
          "text": [
            "Deposited: 500\n",
            "Withdrew: 200\n",
            "Current Balance: 1300\n"
          ]
        }
      ]
    },
    {
      "cell_type": "code",
      "source": [
        "#6.Demonstrate runtime polymorphism using a method play() in a base class Instrument. Derive classes Guitar and Piano that implement their own version of play().\n",
        "\n",
        "class Instrument:\n",
        "    def play(self):\n",
        "        print(\"This instrument makes a sound.\")\n",
        "\n",
        "class Guitar(Instrument):\n",
        "    def play(self):\n",
        "        print(\"Playing the guitar: Strum strum!\")\n",
        "\n",
        "class Piano(Instrument):\n",
        "    def play(self):\n",
        "        print(\"Playing the piano: Plink plonk!\")\n",
        "\n",
        "# Example\n",
        "instruments = [Guitar(), Piano()]\n",
        "\n",
        "for instrument in instruments:\n",
        "    instrument.play()"
      ],
      "metadata": {
        "colab": {
          "base_uri": "https://localhost:8080/"
        },
        "id": "A1p9BgrL1AH-",
        "outputId": "deb064cd-ca2c-4e06-8ed4-1b7c75d589e6"
      },
      "execution_count": 9,
      "outputs": [
        {
          "output_type": "stream",
          "name": "stdout",
          "text": [
            "Playing the guitar: Strum strum!\n",
            "Playing the piano: Plink plonk!\n"
          ]
        }
      ]
    },
    {
      "cell_type": "code",
      "source": [
        "#7. Create a class MathOperations with a class method add_numbers() to add two numbers and a static method subtract_numbers() to subtract two numbers.\n",
        "\n",
        "class MathOperations:\n",
        "    @classmethod\n",
        "    def add_numbers(cls, a, b):\n",
        "        return a + b\n",
        "\n",
        "    @staticmethod\n",
        "    def subtract_numbers(a, b):\n",
        "        return a - b\n",
        "\n",
        "# Example\n",
        "print(\"Addition:\", MathOperations.add_numbers(10, 5))\n",
        "print(\"Subtraction:\", MathOperations.subtract_numbers(10, 5))"
      ],
      "metadata": {
        "colab": {
          "base_uri": "https://localhost:8080/"
        },
        "id": "xmUYcQ1g1UZn",
        "outputId": "33e2d4d8-ffa0-43c2-f142-cde53acd4f1e"
      },
      "execution_count": 10,
      "outputs": [
        {
          "output_type": "stream",
          "name": "stdout",
          "text": [
            "Addition: 15\n",
            "Subtraction: 5\n"
          ]
        }
      ]
    },
    {
      "cell_type": "code",
      "source": [
        "#8.Implement a class Person with a class method to count the total number of persons created.\n",
        "\n",
        "class Person:\n",
        "    count = 0\n",
        "\n",
        "    def __init__(self, name):\n",
        "        self.name = name\n",
        "        Person.count += 1\n",
        "\n",
        "    @classmethod\n",
        "    def total_persons(cls):\n",
        "        return cls.count\n",
        "\n",
        "# Example\n",
        "p1 = Person(\"Ashish\")\n",
        "p2 = Person(\"Rahul\")\n",
        "p3 = Person(\"Bikash\")\n",
        "\n",
        "print(\"Total persons created:\", Person.total_persons())"
      ],
      "metadata": {
        "colab": {
          "base_uri": "https://localhost:8080/"
        },
        "id": "rxelp1gO1o-_",
        "outputId": "d22feee4-c1bc-4462-df8c-d80463d2a3d2"
      },
      "execution_count": 15,
      "outputs": [
        {
          "output_type": "stream",
          "name": "stdout",
          "text": [
            "Total persons created: 3\n"
          ]
        }
      ]
    },
    {
      "cell_type": "code",
      "source": [
        "#9.Write a class Fraction with attributes numerator and denominator. Override the str method to display the fraction as \"numerator/denominator\".\n",
        "\n",
        "class Fraction:\n",
        "    def __init__(self, numerator, denominator):\n",
        "        self.numerator = numerator\n",
        "        self.denominator = denominator\n",
        "\n",
        "    def __str__(self):\n",
        "        return f\"{self.numerator}/{self.denominator}\"\n",
        "\n",
        "# Example\n",
        "f1 = Fraction(3, 4)\n",
        "f2 = Fraction(5, 8)\n",
        "\n",
        "print(f1)\n",
        "print(f2)"
      ],
      "metadata": {
        "colab": {
          "base_uri": "https://localhost:8080/"
        },
        "id": "26qyQHMp2FTR",
        "outputId": "18bbb29c-ef5d-43d9-d9e7-37c79df42f21"
      },
      "execution_count": 12,
      "outputs": [
        {
          "output_type": "stream",
          "name": "stdout",
          "text": [
            "3/4\n",
            "5/8\n"
          ]
        }
      ]
    },
    {
      "cell_type": "code",
      "source": [
        "#10. Demonstrate operator overloading by creating a class Vector and overriding the add method to add two vectors.\n",
        "\n",
        "class Vector:\n",
        "    def __init__(self, x, y):\n",
        "        self.x = x\n",
        "        self.y = y\n",
        "\n",
        "    def __add__(self, other):\n",
        "        return Vector(self.x + other.x, self.y + other.y)\n",
        "\n",
        "    def __str__(self):\n",
        "        return f\"({self.x}, {self.y})\"\n",
        "\n",
        "# Example\n",
        "v1 = Vector(2, 3)\n",
        "v2 = Vector(4, 5)\n",
        "\n",
        "v3 = v1 + v2\n",
        "print(v3)"
      ],
      "metadata": {
        "colab": {
          "base_uri": "https://localhost:8080/"
        },
        "id": "khGH0mHT2VkK",
        "outputId": "a50e2990-0a95-4c3b-dbd6-8bfcd4906fd0"
      },
      "execution_count": 13,
      "outputs": [
        {
          "output_type": "stream",
          "name": "stdout",
          "text": [
            "(6, 8)\n"
          ]
        }
      ]
    },
    {
      "cell_type": "code",
      "source": [
        "#11.Create a class Person with attributes name and age. Add a method greet() that prints \"Hello, my name is {name} and I am {age} years old.\"\n",
        "\n",
        "class Person:\n",
        "    def __init__(self, name, age):\n",
        "        self.name = name\n",
        "        self.age = age\n",
        "\n",
        "    def greet(self):\n",
        "        print(f\"Hello, my name is {self.name} and I am {self.age} years old.\")\n",
        "\n",
        "# Example\n",
        "p1 = Person(\"Ashish\", 26)\n",
        "p1.greet()"
      ],
      "metadata": {
        "colab": {
          "base_uri": "https://localhost:8080/"
        },
        "id": "bzlIbezT2l3S",
        "outputId": "4698d0a8-d423-4f59-f79e-4bf620dcfc2f"
      },
      "execution_count": 16,
      "outputs": [
        {
          "output_type": "stream",
          "name": "stdout",
          "text": [
            "Hello, my name is Ashish and I am 26 years old.\n"
          ]
        }
      ]
    },
    {
      "cell_type": "code",
      "source": [
        "#12.Implement a class Student with attributes name and grades. Create a method average_grade() to compute the average of the grades.\n",
        "\n",
        "class Student:\n",
        "    def __init__(self, name, grades):\n",
        "        self.name = name\n",
        "        self.grades = grades\n",
        "\n",
        "    def average_grade(self):\n",
        "        if self.grades:  # avoid division by zero\n",
        "            return sum(self.grades) / len(self.grades)\n",
        "        return 0\n",
        "\n",
        "# Example\n",
        "s1 = Student(\"Rahul\", [85, 90, 78, 92])\n",
        "print(f\"{s1.name}'s average grade:\", s1.average_grade())"
      ],
      "metadata": {
        "colab": {
          "base_uri": "https://localhost:8080/"
        },
        "id": "Xw4oDNtv3CtJ",
        "outputId": "5d453205-7f03-48b2-fe82-ec8df032f056"
      },
      "execution_count": 17,
      "outputs": [
        {
          "output_type": "stream",
          "name": "stdout",
          "text": [
            "Rahul's average grade: 86.25\n"
          ]
        }
      ]
    },
    {
      "cell_type": "code",
      "source": [
        "#13. Create a class Rectangle with methods set_dimensions() to set the dimensions and area() to calculate the area.\n",
        "\n",
        "class Rectangle:\n",
        "    def __init__(self):\n",
        "        self.length = 0\n",
        "        self.width = 0\n",
        "\n",
        "    def set_dimensions(self, length, width):\n",
        "        self.length = length\n",
        "        self.width = width\n",
        "\n",
        "    def area(self):\n",
        "        return self.length * self.width\n",
        "\n",
        "# Example\n",
        "rect = Rectangle()\n",
        "rect.set_dimensions(5, 10)\n",
        "print(\"Area of rectangle:\", rect.area())"
      ],
      "metadata": {
        "colab": {
          "base_uri": "https://localhost:8080/"
        },
        "id": "akdFZGbj3OmL",
        "outputId": "e7ddf6eb-a744-4c41-a9be-40df0216c662"
      },
      "execution_count": 18,
      "outputs": [
        {
          "output_type": "stream",
          "name": "stdout",
          "text": [
            "Area of rectangle: 50\n"
          ]
        }
      ]
    },
    {
      "cell_type": "code",
      "source": [
        "#14.Create a class Employee with a method calculate_salary() that computes the salary based on hours worked and hourly rate. Create a derived class Manager that adds a bonus to the salary.\n",
        "\n",
        "class Employee:\n",
        "    def __init__(self, name, hours_worked, hourly_rate):\n",
        "        self.name = name\n",
        "        self.hours_worked = hours_worked\n",
        "        self.hourly_rate = hourly_rate\n",
        "\n",
        "    def calculate_salary(self):\n",
        "        return self.hours_worked * self.hourly_rate\n",
        "\n",
        "\n",
        "class Manager(Employee):\n",
        "    def __init__(self, name, hours_worked, hourly_rate, bonus):\n",
        "        super().__init__(name, hours_worked, hourly_rate)\n",
        "        self.bonus = bonus\n",
        "\n",
        "    def calculate_salary(self):\n",
        "        return super().calculate_salary() + self.bonus\n",
        "\n",
        "\n",
        "# Example\n",
        "emp = Employee(\"Ashish\", 40, 20)\n",
        "mgr = Manager(\"Rahul\", 45, 30, 500)\n",
        "\n",
        "print(f\"{emp.name}'s Salary: {emp.calculate_salary()}\")\n",
        "print(f\"{mgr.name}'s Salary: {mgr.calculate_salary()}\")"
      ],
      "metadata": {
        "colab": {
          "base_uri": "https://localhost:8080/"
        },
        "id": "nIvbPMAJ3eCc",
        "outputId": "c117429b-3e1d-478d-828b-6009e9478563"
      },
      "execution_count": 19,
      "outputs": [
        {
          "output_type": "stream",
          "name": "stdout",
          "text": [
            "Ashish's Salary: 800\n",
            "Rahul's Salary: 1850\n"
          ]
        }
      ]
    },
    {
      "cell_type": "code",
      "source": [
        "#15.Create a class Product with attributes name, price, and quantity. Implement a method total_price() that calculates the total price of the product.\n",
        "\n",
        "class Product:\n",
        "    def __init__(self, name, price, quantity):\n",
        "        self.name = name\n",
        "        self.price = price\n",
        "        self.quantity = quantity\n",
        "\n",
        "    def total_price(self):\n",
        "        return self.price * self.quantity\n",
        "\n",
        "# Example\n",
        "p1 = Product(\"Laptop\", 50000, 2)\n",
        "print(f\"Total price of {p1.name}: {p1.total_price()}\")"
      ],
      "metadata": {
        "colab": {
          "base_uri": "https://localhost:8080/"
        },
        "id": "FBEsvezF4AFO",
        "outputId": "e05d8f10-05f2-4595-f95d-b4f72f89456e"
      },
      "execution_count": 20,
      "outputs": [
        {
          "output_type": "stream",
          "name": "stdout",
          "text": [
            "Total price of Laptop: 100000\n"
          ]
        }
      ]
    },
    {
      "cell_type": "code",
      "source": [
        "#16.  Create a class Animal with an abstract method sound(). Create two derived classes Cow and Sheep that implement the sound() method.\n",
        "\n",
        "from abc import ABC, abstractmethod\n",
        "\n",
        "class Animal(ABC):\n",
        "    @abstractmethod\n",
        "    def sound(self):\n",
        "        pass\n",
        "\n",
        "class Cow(Animal):\n",
        "    def sound(self):\n",
        "        print(\"Moo\")\n",
        "\n",
        "class Sheep(Animal):\n",
        "    def sound(self):\n",
        "        print(\"Baa\")\n",
        "\n",
        "# Example\n",
        "animals = [Cow(), Sheep()]\n",
        "\n",
        "for animal in animals:\n",
        "    animal.sound()"
      ],
      "metadata": {
        "colab": {
          "base_uri": "https://localhost:8080/"
        },
        "id": "BmqMC5Ey4QJW",
        "outputId": "c5404987-2ff7-4a00-b268-7dcf09968457"
      },
      "execution_count": 21,
      "outputs": [
        {
          "output_type": "stream",
          "name": "stdout",
          "text": [
            "Moo\n",
            "Baa\n"
          ]
        }
      ]
    },
    {
      "cell_type": "code",
      "source": [
        "#17.Create a class Book with attributes title, author, and year_published. Add a method get_book_info() that returns a formatted string with the book's details.\n",
        "\n",
        "class Book:\n",
        "    def __init__(self, title, author, year_published):\n",
        "        self.title = title\n",
        "        self.author = author\n",
        "        self.year_published = year_published\n",
        "\n",
        "    def get_book_info(self):\n",
        "        return f\"Title: {self.title}, Author: {self.author}, Year Published: {self.year_published}\"\n",
        "\n",
        "# Example\n",
        "b1 = Book(\"1984\", \"George Orwell\", 1949)\n",
        "print(b1.get_book_info())"
      ],
      "metadata": {
        "colab": {
          "base_uri": "https://localhost:8080/"
        },
        "id": "is_RZEWN4e7H",
        "outputId": "50def785-c3c4-4e53-8540-6f2e51155ba1"
      },
      "execution_count": 22,
      "outputs": [
        {
          "output_type": "stream",
          "name": "stdout",
          "text": [
            "Title: 1984, Author: George Orwell, Year Published: 1949\n"
          ]
        }
      ]
    },
    {
      "cell_type": "code",
      "source": [
        "#18. Create a class House with attributes address and price. Create a derived class Mansion that adds an attribute number_of_rooms.\n",
        "\n",
        "class House:\n",
        "    def __init__(self, address, price):\n",
        "        self.address = address\n",
        "        self.price = price\n",
        "\n",
        "class Mansion(House):\n",
        "    def __init__(self, address, price, number_of_rooms):\n",
        "        super().__init__(address, price)\n",
        "        self.number_of_rooms = number_of_rooms\n",
        "\n",
        "# Example\n",
        "h = House(\"123 Main St\", 500000)\n",
        "m = Mansion(\"456 Luxury Rd\", 2000000, 10)\n",
        "\n",
        "print(f\"House: {h.address}, Price: {h.price}\")\n",
        "print(f\"Mansion: {m.address}, Price: {m.price}, Rooms: {m.number_of_rooms}\")"
      ],
      "metadata": {
        "colab": {
          "base_uri": "https://localhost:8080/"
        },
        "id": "kvIuaRCX4vj4",
        "outputId": "836f1087-31ec-4cd4-963b-6f1186e45ea8"
      },
      "execution_count": 23,
      "outputs": [
        {
          "output_type": "stream",
          "name": "stdout",
          "text": [
            "House: 123 Main St, Price: 500000\n",
            "Mansion: 456 Luxury Rd, Price: 2000000, Rooms: 10\n"
          ]
        }
      ]
    }
  ]
}